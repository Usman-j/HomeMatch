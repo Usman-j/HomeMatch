{
 "cells": [
  {
   "cell_type": "code",
   "execution_count": 1,
   "id": "6554fd4c",
   "metadata": {},
   "outputs": [],
   "source": [
    "import os\n",
    "from config import OpenAPI_key\n",
    "os.environ[\"OPENAI_API_KEY\"] = OpenAPI_key\n",
    "os.environ[\"OPENAI_API_BASE\"] = \"https://openai.vocareum.com/v1\"\n",
    "\n",
    "from langchain_openai import ChatOpenAI"
   ]
  },
  {
   "cell_type": "markdown",
   "id": "f3919fff",
   "metadata": {},
   "source": [
    "## Data Generation for Real Estate Listings"
   ]
  },
  {
   "cell_type": "code",
   "execution_count": 2,
   "id": "d0c6f07b",
   "metadata": {},
   "outputs": [
    {
     "name": "stdout",
     "output_type": "stream",
     "text": [
      "messages=[SystemMessage(content='You are a real estate assistant specializing in creating detailed and attractive real estate listings. Each listing should include information about the neighborhood, price, number of bedrooms and bathrooms, house size, and descriptions of both the house and the neighborhood. Follow the format and style of the example listing provided below.'), HumanMessage(content='\\nGenerate a JSON list of 15 diverse real estate listings in which each object has keys deduced from the example listing.\\n\\n**Example Listing:**\\n\\nNeighborhood: Green Oaks\\nPrice: $800,000\\nBedrooms: 3\\nBathrooms: 2\\nHouse Size: 2,000 sqft\\n\\nDescription: Welcome to this eco-friendly oasis nestled in the heart of Green Oaks. This charming 3-bedroom, 2-bathroom home boasts energy-efficient features such as solar panels and a well-insulated structure. Natural light floods the living spaces, highlighting the beautiful hardwood floors and eco-conscious finishes. The open-concept kitchen and dining area lead to a spacious backyard with a vegetable garden, perfect for the eco-conscious family. Embrace sustainable living without compromising on style in this Green Oaks gem.\\n\\nNeighborhood Description: Green Oaks is a close-knit, environmentally-conscious community with access to organic grocery stores, community gardens, and bike paths. Take a stroll through the nearby Green Oaks Park or grab a cup of coffee at the cozy Green Bean Cafe. With easy access to public transportation and bike lanes, commuting is a breeze.\\n')]\n"
     ]
    }
   ],
   "source": [
    "from langchain_core.prompts import ChatPromptTemplate\n",
    "model_name = 'gpt-3.5-turbo'\n",
    "llm = ChatOpenAI(model_name=model_name, temperature=0, max_tokens=4000)\n",
    "# For LLM response in JSON format\n",
    "json_llm = llm.bind(response_format={\"type\": \"json_object\"})\n",
    "num_listings = 15\n",
    "# Prompt for Synthetic Data Generation of Real Estate Listings\n",
    "user_input = \"\"\"\n",
    "Generate a JSON list of {} diverse real estate listings in which each object has keys deduced from the example listing.\n",
    "\n",
    "**Example Listing:**\n",
    "\n",
    "Neighborhood: Green Oaks\n",
    "Price: $800,000\n",
    "Bedrooms: 3\n",
    "Bathrooms: 2\n",
    "House Size: 2,000 sqft\n",
    "\n",
    "Description: Welcome to this eco-friendly oasis nestled in the heart of Green Oaks. This charming 3-bedroom, 2-bathroom home boasts energy-efficient features such as solar panels and a well-insulated structure. Natural light floods the living spaces, highlighting the beautiful hardwood floors and eco-conscious finishes. The open-concept kitchen and dining area lead to a spacious backyard with a vegetable garden, perfect for the eco-conscious family. Embrace sustainable living without compromising on style in this Green Oaks gem.\n",
    "\n",
    "Neighborhood Description: Green Oaks is a close-knit, environmentally-conscious community with access to organic grocery stores, community gardens, and bike paths. Take a stroll through the nearby Green Oaks Park or grab a cup of coffee at the cozy Green Bean Cafe. With easy access to public transportation and bike lanes, commuting is a breeze.\n",
    "\"\"\"\n",
    "user_input = user_input.format(num_listings)\n",
    "listing_generation_template = ChatPromptTemplate.from_messages([\n",
    "    (\"system\", \"You are a real estate assistant specializing in creating detailed and attractive real estate listings. Each listing should include information about the neighborhood, price, number of bedrooms and bathrooms, house size, and descriptions of both the house and the neighborhood. Follow the format and style of the example listing provided below.\"),\n",
    "    (\"human\", \"{user_input}\"),\n",
    "])\n",
    "listing_generation_prompt = listing_generation_template.invoke(\n",
    "    {\n",
    "        \"user_input\": user_input\n",
    "    }\n",
    ")\n",
    "print(listing_generation_prompt)\n",
    "\n",
    "ai_msg = json_llm.invoke(listing_generation_prompt)"
   ]
  },
  {
   "cell_type": "markdown",
   "id": "d5c8175f",
   "metadata": {},
   "source": [
    "### Separating Quantitative and Textual data from Generated Listings."
   ]
  },
  {
   "cell_type": "code",
   "execution_count": 3,
   "id": "485163a1",
   "metadata": {},
   "outputs": [
    {
     "name": "stdout",
     "output_type": "stream",
     "text": [
      "<class 'dict'> 15\n"
     ]
    }
   ],
   "source": [
    "import json\n",
    "## Storing generated data in JSON and txt format\n",
    "\n",
    "# with open(\"Generated_listings.txt\", \"w\") as text_file:\n",
    "#     text_file.write(ai_msg.content)\n",
    "# gen_listings_json = json.loads(ai_msg.content)\n",
    "# print(type(gen_listings_json))\n",
    "# with open('Generated_listings.json', 'w') as f:  \n",
    "#     json.dump(gen_listings_json, f)\n",
    "\n",
    "## Loading saved JSON data\n",
    "f = open('listings.json')\n",
    "data_listings = json.load(f)\n",
    "print(type(data_listings), len(data_listings['listings']))\n",
    "\n",
    "semantic_keys = ['description', 'neighborhood_description']\n",
    "listing_texts = []\n",
    "listing_metadata = []\n",
    "for listing in data_listings['listings']:\n",
    "    curr_text = ''\n",
    "    for i, sk in enumerate(semantic_keys):\n",
    "        curr_text += sk + ': '\n",
    "        if i < len(semantic_keys)-1:\n",
    "            curr_text += listing[sk] + ' '\n",
    "        else:\n",
    "            curr_text += listing[sk] # No space after adding the text of the last semantic key\n",
    "    listing_texts.append(curr_text)\n",
    "    dict_metadata = {k: listing[k] for k in listing.keys() if k not in semantic_keys}\n",
    "    listing_metadata.append(dict_metadata)\n",
    "\n"
   ]
  },
  {
   "cell_type": "markdown",
   "id": "8777b883",
   "metadata": {},
   "source": [
    "### Generating and Storing Embeddings in Vector Database"
   ]
  },
  {
   "cell_type": "code",
   "execution_count": 4,
   "id": "7a890978",
   "metadata": {},
   "outputs": [],
   "source": [
    "from langchain_openai import OpenAIEmbeddings\n",
    "from langchain.vectorstores import Chroma\n",
    "\n",
    "embeddings = OpenAIEmbeddings()\n",
    "vector_db = Chroma.from_texts(listing_texts, embedding=embeddings, metadatas=listing_metadata, persist_directory=\"./chroma_db_listings\")"
   ]
  },
  {
   "cell_type": "markdown",
   "id": "b049fee2",
   "metadata": {},
   "source": [
    "### User Preference Interface"
   ]
  },
  {
   "cell_type": "code",
   "execution_count": 84,
   "id": "b0d2a8d3",
   "metadata": {},
   "outputs": [],
   "source": [
    "preference_questions = [   \n",
    "                \"How big do you want your house to be?\",\n",
    "                \"What are 3 most important things for you in choosing this property?\", \n",
    "                \"Which amenities would you like?\", \n",
    "                \"Which transportation options are important to you?\",\n",
    "                \"How urban do you want your neighborhood to be?\",   \n",
    "            ]\n",
    "## For interactive QA\n",
    "# user_answers = [ ] \n",
    "# for question in preference_questions:\n",
    "#    answer = input(question)\n",
    "#    user_answers.append(answer)\n",
    "\n",
    "## EXAMPLE 1\n",
    "# user_answers = [\n",
    "#     \"A comfortable three-bedroom house with a spacious kitchen and a cozy living room.\",\n",
    "#     \"A quiet neighborhood, good local schools, and convenient shopping options.\",\n",
    "#     \"A backyard for gardening, a two-car garage, and a modern, energy-efficient heating system.\",\n",
    "#     \"Easy access to a reliable bus line, proximity to a major highway, and bike-friendly roads.\",\n",
    "#     \"A balance between suburban tranquility and access to urban amenities like restaurants and theaters.\"\n",
    "# ]\n",
    "\n",
    "## EXAMPLE 2\n",
    "user_answers = [\n",
    "    \"A luxurious four-bedroom house with a modern kitchen and good ventilation in the living room.\",\n",
    "    \"Proximity to sea, quiet neighborhood, and lots of natural light\",\n",
    "    \"A backyard with a pool, a home office space, and modern appliances.\",\n",
    "    \"Easy access to a major highways and gas stations.\",\n",
    "    \"Suburban, with a mix of residential areas and local shops.\"\n",
    "]"
   ]
  },
  {
   "cell_type": "markdown",
   "id": "3b95297d",
   "metadata": {},
   "source": [
    "### Constructing VectorDB Query and Searching Based on Preferences"
   ]
  },
  {
   "cell_type": "code",
   "execution_count": 87,
   "id": "25a5e41a",
   "metadata": {},
   "outputs": [
    {
     "name": "stdout",
     "output_type": "stream",
     "text": [
      "luxurious, four-bedroom, modern kitchen, good ventilation, proximity to sea, quiet neighborhood, natural light, backyard, pool, home office, modern appliances, easy access, major highways, gas stations, suburban, residential areas, local shops\n"
     ]
    }
   ],
   "source": [
    "from langchain_community.chat_message_histories import ChatMessageHistory\n",
    "# Generating an efficient search query based on the chat history of User Preferences\n",
    "model_name = 'gpt-4o-mini'\n",
    "llm = ChatOpenAI(model_name=model_name, temperature=0, max_tokens=1000)\n",
    "pref_chat_history = ChatMessageHistory()\n",
    "for i in range(len(preference_questions)):\n",
    "    pref_chat_history.add_ai_message(preference_questions[i])\n",
    "    pref_chat_history.add_user_message(user_answers[i])\n",
    "user_input = \"Given the following conversation between a home buyer and a real estate agent, construct an efficient text search query that can be used to fetch semantically similar real estate listings from a database. Just provide the search query in the response. Ensure the search query is in simple comma-separated format.\"\n",
    "listing_search_template = ChatPromptTemplate.from_messages([\n",
    "    (\"human\", \"{user_input}\"),\n",
    "    *pref_chat_history.messages,\n",
    "])\n",
    "listing_search_prompt = listing_search_template.invoke(\n",
    "    {\n",
    "        \"user_input\": user_input\n",
    "    }\n",
    ")\n",
    "# print(listing_search_prompt)\n",
    "\n",
    "ai_msg = llm.invoke(listing_search_prompt)\n",
    "search_query = ai_msg.content\n",
    "print(search_query)\n",
    "\n",
    "# Retrieving 3 most similar documents by utilizing the generated search query\n",
    "similar_docs = vector_db.similarity_search(search_query, k=3)"
   ]
  },
  {
   "cell_type": "markdown",
   "id": "f0ec1930",
   "metadata": {},
   "source": [
    "### Personalizing Listing Descriptions"
   ]
  },
  {
   "cell_type": "code",
   "execution_count": 88,
   "id": "fde80930",
   "metadata": {},
   "outputs": [
    {
     "name": "stdout",
     "output_type": "stream",
     "text": [
      "User Preferences: \n",
      "luxurious, four-bedroom, modern kitchen, good ventilation, proximity to sea, quiet neighborhood, natural light, backyard, pool, home office, modern appliances, easy access, major highways, gas stations, suburban, residential areas, local shops\n",
      "Original Real Estate Listing: \n",
      "**Description:**  Escape to this stunning 3-bedroom, 2.5-bathroom retreat by the sea. The house features a gourmet kitchen, a sun-drenched living room, and a private deck overlooking the ocean. Enjoy the sound of waves crashing and salty sea breezes in this coastal paradise.  \n",
      "\n",
      " **Neighborhood Description:**  Seaside Retreat offers a peaceful coastal lifestyle with sandy beaches, seaside cafes, and water activities. Residents can watch breathtaking sunsets, go surfing or paddleboarding, and explore tide pools along the shore. Experience the magic of seaside living in this idyllic retreat.\n",
      "Augmented Real Estate Listing: \n",
      "**Description:** Discover this exquisite 3-bedroom, 2.5-bathroom retreat by the sea, perfect for those seeking a luxurious coastal lifestyle. The home boasts a gourmet kitchen equipped with modern appliances, a sun-drenched living room that invites natural light, and a private deck that offers stunning views of the ocean. Enjoy the soothing sound of waves and refreshing sea breezes in this tranquil paradise.\n",
      "\n",
      "**Neighborhood Description:** Seaside Retreat provides a serene coastal environment, ideal for relaxation and leisure. With sandy beaches, charming seaside cafes, and a variety of water activities, residents can indulge in breathtaking sunsets, surfing, paddleboarding, and exploring tide pools. Experience the allure of seaside living in this peaceful and inviting community. \n",
      "\n",
      "\n",
      "Original Real Estate Listing: \n",
      "**Description:**  Welcome to this luxurious 4-bedroom, 3.5-bathroom home with breathtaking views of the harbor. The house features a chef's kitchen, a wine cellar, a home office, and a spacious deck for watching sailboats glide by. Live the waterfront lifestyle in this elegant coastal retreat.  \n",
      "\n",
      " **Neighborhood Description:**  Harbor View offers exclusive waterfront living with access to marinas, yacht clubs, and seaside dining. Residents can sail, fish, or simply relax by the water's edge while enjoying stunning sunsets over the harbor. Experience the beauty and tranquility of coastal living in this prestigious neighborhood.\n",
      "Augmented Real Estate Listing: \n",
      "**Description:** Welcome to this luxurious 4-bedroom, 3.5-bathroom home that boasts breathtaking views of the harbor. This residence features a modern chef's kitchen equipped with high-end appliances, a dedicated home office, and a spacious deck perfect for enjoying the serene surroundings and watching sailboats glide by. Embrace the waterfront lifestyle in this elegant coastal retreat, designed for good ventilation and abundant natural light.\n",
      "\n",
      "**Neighborhood Description:** Harbor View offers exclusive waterfront living with easy access to marinas, yacht clubs, and seaside dining. Residents can enjoy a quiet neighborhood while engaging in activities like sailing and fishing, or simply relaxing by the water's edge, all while taking in stunning sunsets over the harbor. Experience the beauty and tranquility of coastal living in this prestigious suburban area, conveniently located near major highways and local shops. \n",
      "\n",
      "\n",
      "Original Real Estate Listing: \n",
      "**Description:**  Welcome to this luxurious 5-bedroom, 4-bathroom estate overlooking the serene Lakefront. The house boasts a gourmet kitchen, a home theater, a private dock, and a spacious deck for enjoying the sunset views. Perfect for entertaining guests or relaxing in the lap of luxury.  \n",
      "\n",
      " **Neighborhood Description:**  Lakefront Estates offers exclusive waterfront living with access to boating, fishing, and water sports. Residents can unwind in the peaceful surroundings or host gatherings in the community clubhouse. Enjoy the best of lakeside living in this prestigious neighborhood.\n",
      "Augmented Real Estate Listing: \n",
      "**Description:** Welcome to this luxurious 5-bedroom, 4-bathroom estate overlooking the serene Lakefront. This home features a gourmet kitchen equipped with modern appliances, perfect for culinary enthusiasts. The spacious layout allows for good ventilation and abundant natural light throughout. Enjoy the private dock and spacious deck, ideal for entertaining guests or relaxing while taking in the stunning sunset views. \n",
      "\n",
      "**Neighborhood Description:** Lakefront Estates offers exclusive waterfront living with easy access to boating, fishing, and water sports. This quiet neighborhood provides a peaceful retreat, allowing residents to unwind in tranquil surroundings. The community clubhouse is perfect for hosting gatherings, making it an ideal setting for both relaxation and socializing. Experience the best of lakeside living in this prestigious suburban area. \n",
      "\n",
      "\n"
     ]
    }
   ],
   "source": [
    "def reformat_original_listing(in_content, k1 = 'description:', k2 = 'neighborhood_description:'):\n",
    "    '''\n",
    "    Reformat Original Listing to match the format as per the Augmented Listing.\n",
    "    '''\n",
    "    out_content = \"**Description:** {} \\n\\n **Neighborhood Description:** {}\"\n",
    "    desc_x = in_content[in_content.index(k1)+len(k1):in_content.index(k2)]\n",
    "    ndesc_x = in_content[in_content.index(k2)+len(k2):]\n",
    "    out_content = out_content.format(desc_x, ndesc_x)\n",
    "    return out_content\n",
    "\n",
    "search_augmentation_prompt = \"\"\"\n",
    "You are an expert and honest real estate agent. Your task is to rephrase the given real estate listing to subtly emphasize the aspects that align with the provided user preferences. Make sure not to alter any factual information or add any extra details.\n",
    "\n",
    "***IMPORTANT INSTRUCTIONS***: \n",
    "1. Keep the description accurate and factual as per the original listing.\n",
    "2. Do **NOT** add any new information that is missing in the original listing.\n",
    "\n",
    "### User Preferences: \n",
    "{}\n",
    "\n",
    "### Original Real Estate Listing:\n",
    "{}\n",
    "\n",
    "***Remember to follow these instructions:***: \n",
    "1. Keep the description accurate and factual as per the original listing.\n",
    "2. Do **NOT** add any new information that is missing in the original listing.\n",
    "\"\"\"\n",
    "model_name = 'gpt-4o-mini'\n",
    "llm = ChatOpenAI(model_name=model_name, temperature=0, max_tokens=1000)\n",
    "print('User Preferences: ')\n",
    "print(search_query)\n",
    "for doc in similar_docs:\n",
    "    curr_search_augmentation_prompt = search_augmentation_prompt.format(search_query, doc.page_content)\n",
    "    # print(curr_search_augmentation_prompt)\n",
    "    print('Original Real Estate Listing: ')\n",
    "    print(reformat_original_listing(doc.page_content))\n",
    "    ai_msg = llm.invoke(curr_search_augmentation_prompt)\n",
    "    print('Augmented Real Estate Listing: ')\n",
    "    print(ai_msg.content, '\\n\\n')\n",
    "\n",
    "    "
   ]
  },
  {
   "cell_type": "markdown",
   "id": "fb171aa8",
   "metadata": {},
   "source": [
    "#### Example 1\n",
    "**User Preferences:** \n",
    "\"three-bedroom house, spacious kitchen, cozy living room, quiet neighborhood, good local schools, convenient shopping, backyard, two-car garage, modern heating system, easy access to bus line, proximity to highway, bike-friendly roads, suburban tranquility, urban amenities\"\n",
    "\n",
    "1. Original Real Estate Listing:\n",
    "\n",
    "    **Description:**  Escape to this tranquil 3-bedroom, 2-bathroom home nestled in the peaceful Tranquil Pines neighborhood. The house features a cozy fireplace, a sunlit breakfast nook, and a private backyard surrounded by pine trees. Enjoy the serenity of nature and the chirping of birds in this wooded retreat.  \n",
    "\n",
    "    **Neighborhood Description:**  Tranquil Pines offers a serene escape from the hustle and bustle of city life with winding nature trails and birdwatching spots. Residents can explore nearby forests, go camping, or simply relax in the shade of towering pines. Experience the peace and quiet of woodland living in this idyllic neighborhood.\n",
    "\n",
    "    Augmented Real Estate Listing: \n",
    "\n",
    "    **Description:** Discover this inviting 3-bedroom, 2-bathroom home located in the serene Tranquil Pines neighborhood. This residence boasts a cozy living room with a charming fireplace, a spacious kitchen with a sunlit breakfast nook, and a private backyard surrounded by lush pine trees, perfect for outdoor relaxation. Embrace the peaceful ambiance of nature and the soothing sounds of birds in this delightful retreat.\n",
    "\n",
    "    **Neighborhood Description:** Tranquil Pines provides a peaceful escape from the hustle and bustle of city life, featuring winding nature trails and birdwatching spots. Residents can enjoy nearby forests, go camping, or simply unwind in the shade of the towering pines. Experience the suburban tranquility of this idyllic neighborhood while still being close to urban amenities. \n",
    "\n",
    "\n",
    "2. Original Real Estate Listing: \n",
    "\n",
    "    **Description:**  Step into this spacious 4-bedroom, 3-bathroom home in the serene Willow Creek neighborhood. The house features a modern kitchen with granite countertops, a cozy fireplace in the living room, and a large backyard perfect for entertaining. Enjoy the peaceful surroundings and easy access to hiking trails and parks.  \n",
    "\n",
    "    **Neighborhood Description:**  Willow Creek is a family-friendly neighborhood known for its top-rated schools and lush greenery. Residents can enjoy community events at the local park and have convenient access to shopping centers and restaurants.\n",
    "\n",
    "    Augmented Real Estate Listing: \n",
    "\n",
    "    **Description:** Discover this inviting 4-bedroom, 3-bathroom home nestled in the tranquil Willow Creek neighborhood. The residence boasts a modern kitchen with granite countertops, a cozy fireplace in the living room, and a spacious backyard ideal for gatherings. Experience the peaceful ambiance and enjoy easy access to nearby hiking trails and parks.\n",
    "\n",
    "    **Neighborhood Description:** Willow Creek is a family-friendly community celebrated for its top-rated schools and lush greenery. Residents can partake in community events at the local park and benefit from convenient access to shopping centers and restaurants, all while enjoying the suburban tranquility that this area offers. \n",
    "\n",
    "\n",
    "3. Original Real Estate Listing: \n",
    "\n",
    "    **Description:**  Live in style in this 3-bedroom, 2.5-bathroom home perched in the desirable Sunnyvale Heights neighborhood. The house features a modern kitchen, a spacious master suite, and a backyard oasis with a pool and spa. Enjoy the sunny California weather and panoramic views from this hilltop retreat.  \n",
    "\n",
    "    **Neighborhood Description:**  Sunnyvale Heights offers panoramic views of the city skyline and easy access to hiking trails and parks. Residents can enjoy outdoor activities, visit nearby vineyards, and dine at local eateries with stunning views. Experience the best of California living in this sunny hillside neighborhood.\n",
    "    \n",
    "    Augmented Real Estate Listing: \n",
    "    \n",
    "    **Description:** Experience comfortable living in this charming 3-bedroom, 2.5-bathroom home located in the peaceful Sunnyvale Heights neighborhood. The residence boasts a modern kitchen, perfect for culinary enthusiasts, and a cozy living room ideal for relaxation. Step outside to your own backyard oasis, complete with a pool and spa, where you can unwind and enjoy the sunny California weather. \n",
    "\n",
    "    **Neighborhood Description:** Sunnyvale Heights not only offers serene suburban tranquility but also provides panoramic views of the city skyline. With easy access to hiking trails and parks, residents can engage in outdoor activities while being close to good local schools and convenient shopping options. Enjoy the best of both worlds with urban amenities just a short distance away, all within this bike-friendly community. \n",
    "\n",
    "\n"
   ]
  },
  {
   "cell_type": "markdown",
   "id": "63a6a524",
   "metadata": {},
   "source": [
    "#### Example 2\n",
    "\n",
    "**User Preferences:** \n",
    "luxurious, four-bedroom, modern kitchen, good ventilation, proximity to sea, quiet neighborhood, natural light, backyard, pool, home office, modern appliances, easy access, major highways, gas stations, suburban, residential areas, local shops\n",
    "\n",
    "1. Original Real Estate Listing: \n",
    "\n",
    "    **Description:**  Escape to this stunning 3-bedroom, 2.5-bathroom retreat by the sea. The house features a gourmet kitchen, a sun-drenched living room, and a private deck overlooking the ocean. Enjoy the sound of waves crashing and salty sea breezes in this coastal paradise.  \n",
    "\n",
    "    **Neighborhood Description:**  Seaside Retreat offers a peaceful coastal lifestyle with sandy beaches, seaside cafes, and water activities. Residents can watch breathtaking sunsets, go surfing or paddleboarding, and explore tide pools along the shore. Experience the magic of seaside living in this idyllic retreat.\n",
    "\n",
    "    Augmented Real Estate Listing: \n",
    "\n",
    "    **Description:** Discover this exquisite 3-bedroom, 2.5-bathroom retreat by the sea, perfect for those seeking a luxurious coastal lifestyle. The home boasts a gourmet kitchen equipped with modern appliances, a sun-drenched living room that invites natural light, and a private deck that offers stunning views of the ocean. Enjoy the soothing sound of waves and refreshing sea breezes in this tranquil paradise.\n",
    "\n",
    "    **Neighborhood Description:** Seaside Retreat provides a serene coastal environment, ideal for relaxation and leisure. With sandy beaches, charming seaside cafes, and a variety of water activities, residents can indulge in breathtaking sunsets, surfing, paddleboarding, and exploring tide pools. Experience the allure of seaside living in this peaceful and inviting community. \n",
    "\n",
    "\n",
    "2. Original Real Estate Listing: \n",
    "\n",
    "    **Description:**  Welcome to this luxurious 4-bedroom, 3.5-bathroom home with breathtaking views of the harbor. The house features a chef's kitchen, a wine cellar, a home office, and a spacious deck for watching sailboats glide by. Live the waterfront lifestyle in this elegant coastal retreat.  \n",
    "\n",
    "    **Neighborhood Description:**  Harbor View offers exclusive waterfront living with access to marinas, yacht clubs, and seaside dining. Residents can sail, fish, or simply relax by the water's edge while enjoying stunning sunsets over the harbor. Experience the beauty and tranquility of coastal living in this prestigious neighborhood.\n",
    "    \n",
    "    Augmented Real Estate Listing: \n",
    "\n",
    "    **Description:** Welcome to this luxurious 4-bedroom, 3.5-bathroom home that boasts breathtaking views of the harbor. This residence features a modern chef's kitchen equipped with high-end appliances, a dedicated home office, and a spacious deck perfect for enjoying the serene surroundings and watching sailboats glide by. Embrace the waterfront lifestyle in this elegant coastal retreat, designed for good ventilation and abundant natural light.\n",
    "\n",
    "    **Neighborhood Description:** Harbor View offers exclusive waterfront living with easy access to marinas, yacht clubs, and seaside dining. Residents can enjoy a quiet neighborhood while engaging in activities like sailing and fishing, or simply relaxing by the water's edge, all while taking in stunning sunsets over the harbor. Experience the beauty and tranquility of coastal living in this prestigious suburban area, conveniently located near major highways and local shops. \n",
    "\n",
    "\n",
    "3. Original Real Estate Listing: \n",
    "\n",
    "    **Description:**  Welcome to this luxurious 5-bedroom, 4-bathroom estate overlooking the serene Lakefront. The house boasts a gourmet kitchen, a home theater, a private dock, and a spacious deck for enjoying the sunset views. Perfect for entertaining guests or relaxing in the lap of luxury.  \n",
    "\n",
    "    **Neighborhood Description:**  Lakefront Estates offers exclusive waterfront living with access to boating, fishing, and water sports. Residents can unwind in the peaceful surroundings or host gatherings in the community clubhouse. Enjoy the best of lakeside living in this prestigious neighborhood.\n",
    "\n",
    "    Augmented Real Estate Listing: \n",
    "    \n",
    "    **Description:** Welcome to this luxurious 5-bedroom, 4-bathroom estate overlooking the serene Lakefront. This home features a gourmet kitchen equipped with modern appliances, perfect for culinary enthusiasts. The spacious layout allows for good ventilation and abundant natural light throughout. Enjoy the private dock and spacious deck, ideal for entertaining guests or relaxing while taking in the stunning sunset views. \n",
    "\n",
    "    **Neighborhood Description:** Lakefront Estates offers exclusive waterfront living with easy access to boating, fishing, and water sports. This quiet neighborhood provides a peaceful retreat, allowing residents to unwind in tranquil surroundings. The community clubhouse is perfect for hosting gatherings, making it an ideal setting for both relaxation and socializing. Experience the best of lakeside living in this prestigious suburban area. \n",
    "\n",
    "\n"
   ]
  }
 ],
 "metadata": {
  "kernelspec": {
   "display_name": "Python 3 (ipykernel)",
   "language": "python",
   "name": "python3"
  },
  "language_info": {
   "codemirror_mode": {
    "name": "ipython",
    "version": 3
   },
   "file_extension": ".py",
   "mimetype": "text/x-python",
   "name": "python",
   "nbconvert_exporter": "python",
   "pygments_lexer": "ipython3",
   "version": "3.10.14"
  }
 },
 "nbformat": 4,
 "nbformat_minor": 5
}
