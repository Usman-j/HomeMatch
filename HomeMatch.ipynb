{
 "cells": [
  {
   "cell_type": "markdown",
   "id": "a108af04",
   "metadata": {},
   "source": [
    "This is a starter notebook for the project, you'll have to import the libraries you'll need, you can find a list of the ones available in this workspace in the requirements.txt file in this workspace. "
   ]
  },
  {
   "cell_type": "code",
   "execution_count": 1,
   "id": "6554fd4c",
   "metadata": {},
   "outputs": [],
   "source": [
    "import os\n",
    "from config import OpenAPI_key\n",
    "os.environ[\"OPENAI_API_KEY\"] = OpenAPI_key\n",
    "os.environ[\"OPENAI_API_BASE\"] = \"https://openai.vocareum.com/v1\"\n",
    "\n",
    "from langchain_openai import ChatOpenAI"
   ]
  },
  {
   "cell_type": "markdown",
   "id": "f3919fff",
   "metadata": {},
   "source": [
    "## Data Generation for Real Estate Listings"
   ]
  },
  {
   "cell_type": "code",
   "execution_count": 2,
   "id": "d0c6f07b",
   "metadata": {},
   "outputs": [
    {
     "name": "stdout",
     "output_type": "stream",
     "text": [
      "messages=[SystemMessage(content='You are a real estate assistant specializing in creating detailed and attractive real estate listings. Each listing should include information about the neighborhood, price, number of bedrooms and bathrooms, house size, and descriptions of both the house and the neighborhood. Follow the format and style of the example listing provided below.'), HumanMessage(content='\\nGenerate a JSON list of 15 diverse real estate listings in which each object has keys deduced from the example listing.\\n\\n**Example Listing:**\\n\\nNeighborhood: Green Oaks\\nPrice: $800,000\\nBedrooms: 3\\nBathrooms: 2\\nHouse Size: 2,000 sqft\\n\\nDescription: Welcome to this eco-friendly oasis nestled in the heart of Green Oaks. This charming 3-bedroom, 2-bathroom home boasts energy-efficient features such as solar panels and a well-insulated structure. Natural light floods the living spaces, highlighting the beautiful hardwood floors and eco-conscious finishes. The open-concept kitchen and dining area lead to a spacious backyard with a vegetable garden, perfect for the eco-conscious family. Embrace sustainable living without compromising on style in this Green Oaks gem.\\n\\nNeighborhood Description: Green Oaks is a close-knit, environmentally-conscious community with access to organic grocery stores, community gardens, and bike paths. Take a stroll through the nearby Green Oaks Park or grab a cup of coffee at the cozy Green Bean Cafe. With easy access to public transportation and bike lanes, commuting is a breeze.\\n')]\n"
     ]
    }
   ],
   "source": [
    "from langchain_core.prompts import ChatPromptTemplate\n",
    "model_name = 'gpt-3.5-turbo'\n",
    "llm = ChatOpenAI(model_name=model_name, temperature=0, max_tokens=4000)\n",
    "json_llm = llm.bind(response_format={\"type\": \"json_object\"})\n",
    "num_listings = 15\n",
    "user_input = \"\"\"\n",
    "Generate a JSON list of {} diverse real estate listings in which each object has keys deduced from the example listing.\n",
    "\n",
    "**Example Listing:**\n",
    "\n",
    "Neighborhood: Green Oaks\n",
    "Price: $800,000\n",
    "Bedrooms: 3\n",
    "Bathrooms: 2\n",
    "House Size: 2,000 sqft\n",
    "\n",
    "Description: Welcome to this eco-friendly oasis nestled in the heart of Green Oaks. This charming 3-bedroom, 2-bathroom home boasts energy-efficient features such as solar panels and a well-insulated structure. Natural light floods the living spaces, highlighting the beautiful hardwood floors and eco-conscious finishes. The open-concept kitchen and dining area lead to a spacious backyard with a vegetable garden, perfect for the eco-conscious family. Embrace sustainable living without compromising on style in this Green Oaks gem.\n",
    "\n",
    "Neighborhood Description: Green Oaks is a close-knit, environmentally-conscious community with access to organic grocery stores, community gardens, and bike paths. Take a stroll through the nearby Green Oaks Park or grab a cup of coffee at the cozy Green Bean Cafe. With easy access to public transportation and bike lanes, commuting is a breeze.\n",
    "\"\"\"\n",
    "user_input = user_input.format(num_listings)\n",
    "listing_generation_template = ChatPromptTemplate.from_messages([\n",
    "    (\"system\", \"You are a real estate assistant specializing in creating detailed and attractive real estate listings. Each listing should include information about the neighborhood, price, number of bedrooms and bathrooms, house size, and descriptions of both the house and the neighborhood. Follow the format and style of the example listing provided below.\"),\n",
    "    (\"human\", \"{user_input}\"),\n",
    "])\n",
    "listing_generation_prompt = listing_generation_template.invoke(\n",
    "    {\n",
    "        \"user_input\": user_input\n",
    "    }\n",
    ")\n",
    "print(listing_generation_prompt)\n",
    "\n",
    "# ai_msg = json_llm.invoke(listing_generation_prompt)"
   ]
  },
  {
   "cell_type": "markdown",
   "id": "d5c8175f",
   "metadata": {},
   "source": [
    "### Separating Quantitative and Textual data from Generated Listings."
   ]
  },
  {
   "cell_type": "code",
   "execution_count": 3,
   "id": "485163a1",
   "metadata": {},
   "outputs": [
    {
     "name": "stdout",
     "output_type": "stream",
     "text": [
      "<class 'dict'> 15\n"
     ]
    }
   ],
   "source": [
    "import json\n",
    "## Storing generated data in JSON and txt format\n",
    "# with open(\"Generated_listings.txt\", \"w\") as text_file:\n",
    "#     text_file.write(ai_msg.content)\n",
    "# gen_listings_json = json.loads(ai_msg.content)\n",
    "# print(type(gen_listings_json))\n",
    "# with open('Generated_listings.json', 'w') as f:  \n",
    "#     json.dump(gen_listings_json, f)\n",
    "\n",
    "## Loading saved JSON data\n",
    "f = open('Generated_listings.json')\n",
    "data_listings = json.load(f)\n",
    "print(type(data_listings), len(data_listings['listings']))\n",
    "\n",
    "semantic_keys = ['description', 'neighborhood_description']\n",
    "listing_texts = []\n",
    "listing_metadata = []\n",
    "for listing in data_listings['listings']:\n",
    "    curr_text = ''\n",
    "    for i, sk in enumerate(semantic_keys):\n",
    "        curr_text += sk + ': '\n",
    "        if i < len(semantic_keys)-1:\n",
    "            curr_text += listing[sk] + ' '\n",
    "        else:\n",
    "            curr_text += listing[sk] # No space after adding the text of the last semantic key\n",
    "    listing_texts.append(curr_text)\n",
    "    dict_metadata = {k: listing[k] for k in listing.keys() if k not in semantic_keys}\n",
    "    listing_metadata.append(dict_metadata)\n",
    "\n"
   ]
  },
  {
   "cell_type": "markdown",
   "id": "8777b883",
   "metadata": {},
   "source": [
    "### Generating and Storing Embeddings in Vector Database"
   ]
  },
  {
   "cell_type": "code",
   "execution_count": 4,
   "id": "7a890978",
   "metadata": {},
   "outputs": [],
   "source": [
    "from langchain_openai import OpenAIEmbeddings\n",
    "from langchain.vectorstores import Chroma\n",
    "\n",
    "embeddings = OpenAIEmbeddings()\n",
    "vector_db = Chroma.from_texts(listing_texts, embedding=embeddings, metadatas=listing_metadata, persist_directory=\"./chroma_db_listings\")"
   ]
  },
  {
   "cell_type": "markdown",
   "id": "b049fee2",
   "metadata": {},
   "source": [
    "### User Preference Interface"
   ]
  },
  {
   "cell_type": "code",
   "execution_count": 30,
   "id": "b0d2a8d3",
   "metadata": {},
   "outputs": [
    {
     "name": "stdout",
     "output_type": "stream",
     "text": [
      "15 1536\n"
     ]
    }
   ],
   "source": [
    "preference_questions = [   \n",
    "                \"How big do you want your house to be?\",\n",
    "                \"What are 3 most important things for you in choosing this property?\", \n",
    "                \"Which amenities would you like?\", \n",
    "                \"Which transportation options are important to you?\",\n",
    "                \"How urban do you want your neighborhood to be?\",   \n",
    "            ]\n",
    "\n",
    "user_answers = [ ] \n",
    "for question in preference_questions:\n",
    "   answer = input(question)\n",
    "   user_answers.append(answer)"
   ]
  },
  {
   "cell_type": "code",
   "execution_count": null,
   "id": "25a5e41a",
   "metadata": {},
   "outputs": [],
   "source": [
    "#TODO: Utilize chat history from last 4 questions and ask LLM to come up with a search query that can be used for semantic retrieval.\n",
    "#TODO: Utilize the first 2 questions and filter/sort the retrieved results based on their metadata.\n",
    "model_name = 'gpt-4o-mini'\n",
    "llm = ChatOpenAI(model_name=model_name, temperature=0, max_tokens=4000)\n"
   ]
  }
 ],
 "metadata": {
  "kernelspec": {
   "display_name": "Python 3 (ipykernel)",
   "language": "python",
   "name": "python3"
  },
  "language_info": {
   "codemirror_mode": {
    "name": "ipython",
    "version": 3
   },
   "file_extension": ".py",
   "mimetype": "text/x-python",
   "name": "python",
   "nbconvert_exporter": "python",
   "pygments_lexer": "ipython3",
   "version": "3.10.14"
  }
 },
 "nbformat": 4,
 "nbformat_minor": 5
}
